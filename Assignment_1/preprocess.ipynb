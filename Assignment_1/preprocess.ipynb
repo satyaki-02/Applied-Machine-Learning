{
 "cells": [
  {
   "cell_type": "markdown",
   "metadata": {
    "id": "iVGeXqpBD3zV"
   },
   "source": [
    "## Importing Libraries"
   ]
  },
  {
   "cell_type": "code",
   "execution_count": 1,
   "metadata": {
    "colab": {
     "base_uri": "https://localhost:8080/"
    },
    "id": "9AV2i3kwAnsM",
    "outputId": "8e13767f-aa3e-48c6-c822-f167e46f25be"
   },
   "outputs": [
    {
     "name": "stderr",
     "output_type": "stream",
     "text": [
      "[nltk_data] Downloading package punkt to\n",
      "[nltk_data]     C:\\Users\\j25sr\\AppData\\Roaming\\nltk_data...\n",
      "[nltk_data]   Package punkt is already up-to-date!\n",
      "[nltk_data] Downloading package punkt_tab to\n",
      "[nltk_data]     C:\\Users\\j25sr\\AppData\\Roaming\\nltk_data...\n",
      "[nltk_data]   Package punkt_tab is already up-to-date!\n",
      "[nltk_data] Downloading package wordnet to\n",
      "[nltk_data]     C:\\Users\\j25sr\\AppData\\Roaming\\nltk_data...\n",
      "[nltk_data]   Package wordnet is already up-to-date!\n"
     ]
    }
   ],
   "source": [
    "import csv\n",
    "from textblob import TextBlob\n",
    "import pandas\n",
    "import nltk\n",
    "nltk.download('punkt')\n",
    "nltk.download('punkt_tab')\n",
    "nltk.download('wordnet')\n",
    "\n",
    "from sklearn.model_selection import train_test_split\n"
   ]
  },
  {
   "cell_type": "markdown",
   "metadata": {
    "id": "G-pDl147D7GK"
   },
   "source": [
    "## Function to load the data"
   ]
  },
  {
   "cell_type": "code",
   "execution_count": 2,
   "metadata": {
    "colab": {
     "base_uri": "https://localhost:8080/",
     "height": 206
    },
    "id": "9Pkb7PoGTc1p",
    "outputId": "381b7d22-db23-428f-90e8-1bde16989350"
   },
   "outputs": [],
   "source": [
    "def load_data(path):\n",
    "  messages = pandas.read_csv(path, sep='\\t', quoting=csv.QUOTE_NONE,\n",
    "                           names=[\"label\", \"message\"])\n",
    "  return messages"
   ]
  },
  {
   "cell_type": "markdown",
   "metadata": {
    "id": "tXhPaTSHEIm3"
   },
   "source": [
    "# Function to split into lemmas"
   ]
  },
  {
   "cell_type": "code",
   "execution_count": 3,
   "metadata": {
    "colab": {
     "base_uri": "https://localhost:8080/",
     "height": 206
    },
    "id": "g1ajnwv8UD9d",
    "outputId": "ac79a3c7-afd1-4794-b559-90a870ef87d1"
   },
   "outputs": [],
   "source": [
    "def split_into_lemmas(message):\n",
    "    message = message.lower()\n",
    "    words = TextBlob(message).words\n",
    "    return [word.lemmatize() for word in words]"
   ]
  },
  {
   "cell_type": "markdown",
   "metadata": {
    "id": "OsOqUQDaEMDb"
   },
   "source": [
    "# Function to split data into train, test and validation"
   ]
  },
  {
   "cell_type": "code",
   "execution_count": 4,
   "metadata": {
    "id": "A-dskEN8rgyY"
   },
   "outputs": [],
   "source": [
    "def split_data(messages, ts = 0.2, v=0.2):\n",
    "  v_a = v /(1-ts)\n",
    "  msg_train, msg_test, label_train, label_test = train_test_split(messages['message'], messages['label'], test_size=ts)\n",
    "  msg_train, msg_val, label_train, label_val = train_test_split(\n",
    "    msg_train, label_train, test_size=v_a, random_state=42)\n",
    "  return msg_train, msg_val, msg_test, label_train, label_val, label_test\n"
   ]
  },
  {
   "cell_type": "code",
   "execution_count": null,
   "metadata": {
    "id": "LW2ZQVBfsl-G"
   },
   "outputs": [],
   "source": []
  },
  {
   "cell_type": "markdown",
   "metadata": {},
   "source": [
    "# Function to store the splitted and preprocessed data "
   ]
  },
  {
   "cell_type": "code",
   "execution_count": 5,
   "metadata": {
    "id": "lOqzMKmOvj7J"
   },
   "outputs": [],
   "source": [
    "def to_csv(storagepath, msg_train, msg_val, msg_test, label_train, label_val, label_test):\n",
    "  msg_train.to_csv(storagepath + 'msg_train.csv', index=False)\n",
    "  msg_val.to_csv(storagepath + 'msg_val.csv', index=False)\n",
    "  msg_test.to_csv(storagepath + 'msg_test.csv', index=False)\n",
    "  label_train.to_csv(storagepath + 'label_train.csv', index=False)\n",
    "  label_val.to_csv(storagepath + 'label_val.csv', index=False)\n",
    "  label_test.to_csv(storagepath + 'label_test.csv', index=False)"
   ]
  },
  {
   "cell_type": "code",
   "execution_count": null,
   "metadata": {
    "id": "Y0xrCQdpwTV8"
   },
   "outputs": [],
   "source": [
    "path = \"C:/Users/j25sr/OneDrive/Desktop/AML 1/sms+spam+collection/SMSSpamCollection\"\n",
    "\n",
    "messages = load_data(path)\n",
    "\n",
    "messages.message = messages.message.apply(split_into_lemmas)\n",
    "\n",
    "msg_train, msg_val, msg_test, label_train, label_val, label_test = split_data(messages)\n",
    "\n",
    "storage_path = \"C:/Users/j25sr/OneDrive/Desktop/AML 1/split_dataset/split_dataset\"\n",
    "to_csv(storage_path, msg_train, msg_val, msg_test, label_train, label_val, label_test)"
   ]
  }
 ],
 "metadata": {
  "colab": {
   "provenance": []
  },
  "kernelspec": {
   "display_name": "Python 3",
   "name": "python3"
  },
  "language_info": {
   "codemirror_mode": {
    "name": "ipython",
    "version": 3
   },
   "file_extension": ".py",
   "mimetype": "text/x-python",
   "name": "python",
   "nbconvert_exporter": "python",
   "pygments_lexer": "ipython3",
   "version": "3.11.9"
  }
 },
 "nbformat": 4,
 "nbformat_minor": 0
}
