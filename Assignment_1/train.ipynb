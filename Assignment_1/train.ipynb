{
 "cells": [
  {
   "cell_type": "markdown",
   "metadata": {},
   "source": [
    "# Importing libraries"
   ]
  },
  {
   "cell_type": "code",
   "execution_count": null,
   "metadata": {
    "id": "bPbKpYd7umIz"
   },
   "outputs": [
    {
     "name": "stderr",
     "output_type": "stream",
     "text": [
      "[nltk_data] Downloading package punkt to\n",
      "[nltk_data]     C:\\Users\\j25sr\\AppData\\Roaming\\nltk_data...\n",
      "[nltk_data]   Package punkt is already up-to-date!\n",
      "[nltk_data] Downloading package punkt_tab to\n",
      "[nltk_data]     C:\\Users\\j25sr\\AppData\\Roaming\\nltk_data...\n",
      "[nltk_data]   Package punkt_tab is already up-to-date!\n",
      "[nltk_data] Downloading package wordnet to\n",
      "[nltk_data]     C:\\Users\\j25sr\\AppData\\Roaming\\nltk_data...\n",
      "[nltk_data]   Package wordnet is already up-to-date!\n"
     ]
    }
   ],
   "source": [
    "%matplotlib inline\n",
    "import matplotlib.pyplot as plt\n",
    "import nltk\n",
    "nltk.download('punkt')\n",
    "nltk.download('punkt_tab')\n",
    "nltk.download('wordnet')\n",
    "from textblob import TextBlob\n",
    "from sklearn.feature_extraction.text import TfidfVectorizer\n",
    "import warnings\n",
    "\n",
    "import pandas as pd\n",
    "from sklearn.naive_bayes import MultinomialNB\n",
    "from sklearn.svm import SVC\n",
    "from sklearn.linear_model import LogisticRegression\n",
    "\n",
    "from sklearn.metrics import  accuracy_score\n",
    "from sklearn.pipeline import Pipeline\n",
    "from sklearn.model_selection import  cross_val_score\n",
    "from itertools import product\n"
   ]
  },
  {
   "cell_type": "markdown",
   "metadata": {},
   "source": [
    "## Function to load data"
   ]
  },
  {
   "cell_type": "code",
   "execution_count": 26,
   "metadata": {
    "id": "T4_KJatGwa70"
   },
   "outputs": [],
   "source": [
    "def load_data(file_path):\n",
    "    msg_train = pd.read_csv(file_path+ 'msg_train.csv').squeeze()\n",
    "    msg_val = pd.read_csv(file_path+ 'msg_val.csv').squeeze()\n",
    "    msg_test = pd.read_csv(file_path+ 'msg_test.csv').squeeze()\n",
    "    label_train = pd.read_csv(file_path+ 'label_train.csv').squeeze()\n",
    "    label_val = pd.read_csv(file_path+ 'label_val.csv').squeeze()\n",
    "    label_test = pd.read_csv(file_path+ 'label_test.csv').squeeze()\n",
    "    return msg_train, msg_val, msg_test, label_train, label_val, label_test"
   ]
  },
  {
   "cell_type": "code",
   "execution_count": 27,
   "metadata": {},
   "outputs": [],
   "source": [
    "path = \"C:/Users/j25sr/OneDrive/Desktop/AML 1/split_dataset/split_dataset\"\n",
    "msg_train, msg_val, msg_test, label_train, label_val, label_test = load_data(path)"
   ]
  },
  {
   "cell_type": "markdown",
   "metadata": {
    "id": "s7P2mxaYufn4"
   },
   "source": [
    "## Fitting Naive Bayes"
   ]
  },
  {
   "cell_type": "code",
   "execution_count": 28,
   "metadata": {
    "id": "EpqGuOa3rRgI"
   },
   "outputs": [],
   "source": [
    "pipeline_NB = Pipeline([\n",
    "    ('tfidf', TfidfVectorizer(tokenizer=lambda x: x, preprocessor=None, lowercase=False)),\n",
    "    ('classifier', MultinomialNB())  # Classifier\n",
    "])"
   ]
  },
  {
   "cell_type": "code",
   "execution_count": 30,
   "metadata": {
    "id": "XmuJlJitseGx"
   },
   "outputs": [
    {
     "name": "stdout",
     "output_type": "stream",
     "text": [
      "Validation Accuracy: 93.63%\n"
     ]
    },
    {
     "name": "stderr",
     "output_type": "stream",
     "text": [
      "C:\\Users\\j25sr\\AppData\\Local\\Packages\\PythonSoftwareFoundation.Python.3.11_qbz5n2kfra8p0\\LocalCache\\local-packages\\Python311\\site-packages\\sklearn\\feature_extraction\\text.py:525: UserWarning: The parameter 'token_pattern' will not be used since 'tokenizer' is not None'\n",
      "  warnings.warn(\n"
     ]
    }
   ],
   "source": [
    "def validation_accuracy(msg_train, label_train, msg_val, label_val):\n",
    "  pipeline_NB.fit(msg_train,label_train)\n",
    "  predictions = pipeline_NB.predict(msg_val)\n",
    "  val_accuracy = accuracy_score(label_val, predictions)\n",
    "  return val_accuracy\n",
    "\n",
    "val_accuracy = validation_accuracy(msg_train, label_train, msg_val, label_val)*100\n",
    "\n",
    "print(f\"Validation Accuracy: {val_accuracy:.2f}%\")\n"
   ]
  },
  {
   "cell_type": "markdown",
   "metadata": {},
   "source": [
    "Hyperparameter tuning to find best parameters for Naive Bayes"
   ]
  },
  {
   "cell_type": "code",
   "execution_count": 31,
   "metadata": {
    "id": "efWFNdBfsihg"
   },
   "outputs": [
    {
     "name": "stdout",
     "output_type": "stream",
     "text": [
      "Params: (True, 0.1, True) → Validation Accuracy: 0.9435\n",
      "Params: (True, 0.1, False) → Validation Accuracy: 0.9650\n",
      "Params: (True, 0.5, True) → Validation Accuracy: 0.9399\n",
      "Params: (True, 0.5, False) → Validation Accuracy: 0.9632\n",
      "Params: (True, 1.0, True) → Validation Accuracy: 0.9363\n",
      "Params: (True, 1.0, False) → Validation Accuracy: 0.9632\n",
      "Params: (True, 2.0, True) → Validation Accuracy: 0.9327\n",
      "Params: (True, 2.0, False) → Validation Accuracy: 0.9632\n",
      "Params: (False, 0.1, True) → Validation Accuracy: 0.8834\n",
      "Params: (False, 0.1, False) → Validation Accuracy: 0.9668\n",
      "Params: (False, 0.5, True) → Validation Accuracy: 0.8807\n",
      "Params: (False, 0.5, False) → Validation Accuracy: 0.9677\n",
      "Params: (False, 1.0, True) → Validation Accuracy: 0.8780\n",
      "Params: (False, 1.0, False) → Validation Accuracy: 0.9659\n",
      "Params: (False, 2.0, True) → Validation Accuracy: 0.8780\n",
      "Params: (False, 2.0, False) → Validation Accuracy: 0.9686\n",
      "\n",
      "Best Parameters: (False, 2.0, False)\n",
      "Best Validation Accuracy: 96.86%\n"
     ]
    }
   ],
   "source": [
    "warnings.filterwarnings('ignore', category=UserWarning, module='sklearn')\n",
    "\n",
    "def param_search(msg_train, label_train, msg_val, label_val):\n",
    "  param_grid = {\n",
    "    'tfidf__use_idf': [True, False],\n",
    "    'classifier__alpha': [0.1, 0.5, 1.0, 2.0],\n",
    "    'classifier__fit_prior': [True, False]\n",
    "  }\n",
    "\n",
    "  param_combinations = list(product(*param_grid.values()))\n",
    "  best_accuracy = 0\n",
    "  best_params = None\n",
    "  best_model = None\n",
    "\n",
    "  for params in param_combinations:\n",
    "      pipeline_NB.set_params(\n",
    "          tfidf__use_idf=params[0],\n",
    "          classifier__alpha=params[1],\n",
    "          classifier__fit_prior=params[2]\n",
    "      )\n",
    "\n",
    "      pipeline_NB.fit(msg_train, label_train)\n",
    "\n",
    "      val_predictions = pipeline_NB.predict(msg_val)\n",
    "      val_accuracy = accuracy_score(label_val, val_predictions)\n",
    "\n",
    "      print(f\"Params: {params} → Validation Accuracy: {val_accuracy:.4f}\")\n",
    "\n",
    "      if val_accuracy > best_accuracy:\n",
    "          best_accuracy = val_accuracy\n",
    "          best_params = params\n",
    "          best_model = pipeline_NB\n",
    "\n",
    "  return best_params, best_accuracy*100\n",
    "\n",
    "best_params, best_accuracy = param_search(msg_train, label_train, msg_val, label_val)\n",
    "\n",
    "print(\"\\nBest Parameters:\", best_params)\n",
    "print(f\"Best Validation Accuracy: {best_accuracy:.2f}%\")"
   ]
  },
  {
   "cell_type": "code",
   "execution_count": 46,
   "metadata": {
    "id": "PwHFpIMnsqiE"
   },
   "outputs": [],
   "source": [
    "best_params = {\n",
    "    'tfidf__use_idf': False,\n",
    "    'classifier__alpha': 2.0,\n",
    "    'classifier__fit_prior': False\n",
    "}"
   ]
  },
  {
   "cell_type": "code",
   "execution_count": 47,
   "metadata": {
    "id": "Pp_jGdlwstLP"
   },
   "outputs": [
    {
     "name": "stdout",
     "output_type": "stream",
     "text": [
      "Test Accuracy: 96.68%\n"
     ]
    }
   ],
   "source": [
    "best_model = pipeline_NB.set_params(**best_params)\n",
    "best_model.fit(msg_train, label_train)\n",
    "test_predictions = best_model.predict(msg_test)\n",
    "test_accuracy = accuracy_score(label_test, test_predictions)*100\n",
    "\n",
    "print(f\"Test Accuracy: {test_accuracy:.2f}%\")"
   ]
  },
  {
   "cell_type": "markdown",
   "metadata": {
    "id": "2nMS4o03uIOh"
   },
   "source": [
    "# Fitting SVM"
   ]
  },
  {
   "cell_type": "code",
   "execution_count": 34,
   "metadata": {
    "id": "JxOeumWQswhF"
   },
   "outputs": [],
   "source": [
    "pipeline_svm = Pipeline([\n",
    "    ('tfidf', TfidfVectorizer(tokenizer=lambda x: x, preprocessor=None, lowercase=False)),\n",
    "    ('classifier', SVC()),\n",
    "])\n"
   ]
  },
  {
   "cell_type": "code",
   "execution_count": 35,
   "metadata": {
    "id": "JKBSFhQLsy0y"
   },
   "outputs": [
    {
     "name": "stdout",
     "output_type": "stream",
     "text": [
      "Validation Accuracy (SVM): 97.22%\n"
     ]
    }
   ],
   "source": [
    "from sklearn.metrics import accuracy_score\n",
    "\n",
    "def validation_accuracy_svm(msg_train, label_train, msg_val, label_val):\n",
    "    pipeline_svm.fit(msg_train, label_train)\n",
    "    predictions = pipeline_svm.predict(msg_val)\n",
    "    val_accuracy = accuracy_score(label_val, predictions)\n",
    "    return val_accuracy\n",
    "\n",
    "val_accuracy_svm = validation_accuracy_svm(msg_train, label_train, msg_val, label_val)*100\n",
    "\n",
    "print(f\"Validation Accuracy (SVM): {val_accuracy_svm:.2f}%\")\n"
   ]
  },
  {
   "cell_type": "markdown",
   "metadata": {},
   "source": [
    "Hyperparameter tuning to find best parameters for SVM"
   ]
  },
  {
   "cell_type": "code",
   "execution_count": null,
   "metadata": {
    "id": "SOYkfjjEtRDz"
   },
   "outputs": [
    {
     "name": "stdout",
     "output_type": "stream",
     "text": [
      "\n",
      "Best Parameters (SVM): (True, 10, 'rbf')\n",
      "Best Validation Accuracy (SVM): 97.9372\n"
     ]
    }
   ],
   "source": [
    "\n",
    "def param_search_svm(msg_train, label_train, msg_val, label_val):\n",
    "    param_grid = {\n",
    "        'tfidf__use_idf': (True, False),\n",
    "        'classifier__C': [0.1, 1, 10],\n",
    "        'classifier__kernel': ['linear', 'rbf']\n",
    "    }\n",
    "\n",
    "    param_combinations = list(product(*param_grid.values()))\n",
    "    best_accuracy = 0\n",
    "    best_params = None\n",
    "    best_model = None\n",
    "\n",
    "    for params in param_combinations:\n",
    "        pipeline_svm.set_params(\n",
    "            tfidf__use_idf=params[0],\n",
    "            classifier__C=params[1],\n",
    "            classifier__kernel=params[2]\n",
    "        )\n",
    "\n",
    "        pipeline_svm.fit(msg_train, label_train)\n",
    "\n",
    "        val_predictions = pipeline_svm.predict(msg_val)\n",
    "        val_accuracy = accuracy_score(label_val, val_predictions)\n",
    "\n",
    "        # print(f\"Params: {params} → Validation Accuracy: {val_accuracy:.4f}\")\n",
    "\n",
    "        if val_accuracy > best_accuracy:\n",
    "            best_accuracy = val_accuracy\n",
    "            best_params = params\n",
    "            best_model = pipeline_svm\n",
    "\n",
    "    return best_params, best_accuracy*100\n",
    "\n",
    "best_params_svm, best_accuracy_svm = param_search_svm(msg_train, label_train, msg_val, label_val)\n",
    "\n",
    "print(\"\\nBest Parameters (SVM):\", best_params_svm)\n",
    "print(f\"Best Validation Accuracy (SVM): {best_accuracy_svm:.2f}%\")\n"
   ]
  },
  {
   "cell_type": "code",
   "execution_count": 48,
   "metadata": {
    "id": "l3pgR9BQtlYY"
   },
   "outputs": [],
   "source": [
    "best_params = {\n",
    "    'tfidf__use_idf': True,\n",
    "    'classifier__C': 10,\n",
    "    'classifier__kernel': 'rbf'\n",
    "}"
   ]
  },
  {
   "cell_type": "code",
   "execution_count": 49,
   "metadata": {
    "id": "rUWShH0jtpxI"
   },
   "outputs": [
    {
     "name": "stdout",
     "output_type": "stream",
     "text": [
      "Test Accuracy: 97.49%\n"
     ]
    }
   ],
   "source": [
    "best_model = pipeline_svm.set_params(**best_params)\n",
    "best_model.fit(msg_train, label_train)\n",
    "test_predictions = best_model.predict(msg_test)\n",
    "test_accuracy = accuracy_score(label_test, test_predictions)*100\n",
    "\n",
    "print(f\"Test Accuracy: {test_accuracy:.2f}%\")"
   ]
  },
  {
   "cell_type": "markdown",
   "metadata": {
    "id": "6ApVhsjotsZy"
   },
   "source": [
    "## Fitting Logistic Regression"
   ]
  },
  {
   "cell_type": "code",
   "execution_count": 39,
   "metadata": {
    "id": "3pDjy0YItptu"
   },
   "outputs": [],
   "source": [
    "pipeline_logistic = Pipeline([\n",
    "    ('tfidf', TfidfVectorizer(tokenizer=lambda x: x, preprocessor=None, lowercase=False)),  # Directly handle tokenized data\n",
    "    ('classifier', LogisticRegression(solver='liblinear')),\n",
    "])"
   ]
  },
  {
   "cell_type": "code",
   "execution_count": 40,
   "metadata": {
    "id": "NDqHFKfytpqI"
   },
   "outputs": [
    {
     "name": "stdout",
     "output_type": "stream",
     "text": [
      "Validation Accuracy: 95.43%\n"
     ]
    }
   ],
   "source": [
    "def validation_accuracy(msg_train, label_train, msg_val, label_val):\n",
    "    pipeline_logistic.fit(msg_train, label_train)\n",
    "    predictions = pipeline_logistic.predict(msg_val)\n",
    "    val_accuracy = accuracy_score(label_val, predictions)\n",
    "    return val_accuracy\n",
    "\n",
    "val_accuracy = validation_accuracy(msg_train, label_train, msg_val, label_val)*100\n",
    "print(f\"Validation Accuracy: {val_accuracy:.2f}%\")"
   ]
  },
  {
   "cell_type": "markdown",
   "metadata": {},
   "source": [
    "Hyperparameter tuning to find best parameters for Logistic Regression"
   ]
  },
  {
   "cell_type": "code",
   "execution_count": 41,
   "metadata": {
    "id": "TXnHI7qbtpmi"
   },
   "outputs": [
    {
     "name": "stdout",
     "output_type": "stream",
     "text": [
      "Params: (True, 0.01, 'l1') → Validation Accuracy: 0.8744\n",
      "Params: (True, 0.01, 'l2') → Validation Accuracy: 0.8744\n",
      "Params: (True, 0.1, 'l1') → Validation Accuracy: 0.9426\n",
      "Params: (True, 0.1, 'l2') → Validation Accuracy: 0.9094\n",
      "Params: (True, 1.0, 'l1') → Validation Accuracy: 0.9668\n",
      "Params: (True, 1.0, 'l2') → Validation Accuracy: 0.9543\n",
      "Params: (True, 10.0, 'l1') → Validation Accuracy: 0.9794\n",
      "Params: (True, 10.0, 'l2') → Validation Accuracy: 0.9695\n",
      "Params: (False, 0.01, 'l1') → Validation Accuracy: 0.8744\n",
      "Params: (False, 0.01, 'l2') → Validation Accuracy: 0.8744\n",
      "Params: (False, 0.1, 'l1') → Validation Accuracy: 0.9184\n",
      "Params: (False, 0.1, 'l2') → Validation Accuracy: 0.8744\n",
      "Params: (False, 1.0, 'l1') → Validation Accuracy: 0.9578\n",
      "Params: (False, 1.0, 'l2') → Validation Accuracy: 0.9229\n",
      "Params: (False, 10.0, 'l1') → Validation Accuracy: 0.9722\n",
      "Params: (False, 10.0, 'l2') → Validation Accuracy: 0.9543\n",
      "\n",
      "Best Parameters: (True, 10.0, 'l1')\n",
      "Best Validation Accuracy: 97.94%\n"
     ]
    }
   ],
   "source": [
    "def param_search(msg_train, label_train, msg_val, label_val):\n",
    "    param_grid = {\n",
    "        'tfidf__use_idf': (True, False),\n",
    "        'classifier__C': [0.01, 0.1, 1.0, 10.0],\n",
    "        'classifier__penalty': ['l1', 'l2'],\n",
    "    }\n",
    "\n",
    "    param_combinations = list(product(*param_grid.values()))\n",
    "    best_accuracy = 0\n",
    "    best_params = None\n",
    "    best_model = None\n",
    "\n",
    "    for params in param_combinations:\n",
    "        try:\n",
    "            pipeline_logistic.set_params(\n",
    "                tfidf__use_idf=params[0],\n",
    "                classifier__C=params[1],\n",
    "                classifier__penalty=params[2]\n",
    "            )\n",
    "\n",
    "            pipeline_logistic.fit(msg_train, label_train)\n",
    "            val_predictions = pipeline_logistic.predict(msg_val)\n",
    "            val_accuracy = accuracy_score(label_val, val_predictions)\n",
    "\n",
    "            print(f\"Params: {params} → Validation Accuracy: {val_accuracy:.4f}\")\n",
    "\n",
    "            if val_accuracy > best_accuracy:\n",
    "                best_accuracy = val_accuracy\n",
    "                best_params = params\n",
    "                best_model = pipeline_logistic\n",
    "        except Exception as e:\n",
    "            print(f\"Skipping parameters {params} due to error: {e}\")\n",
    "\n",
    "    return best_params, best_accuracy*100\n",
    "\n",
    "best_params, best_accuracy = param_search(msg_train, label_train, msg_val, label_val)\n",
    "\n",
    "print(\"\\nBest Parameters:\", best_params)\n",
    "print(f\"Best Validation Accuracy: {best_accuracy:.2f}%\")\n"
   ]
  },
  {
   "cell_type": "code",
   "execution_count": 44,
   "metadata": {
    "id": "4CSH7v4dtpjX"
   },
   "outputs": [],
   "source": [
    "best_params = {\n",
    "    'tfidf__use_idf': True,\n",
    "    'classifier__C': 10.0,\n",
    "    'classifier__penalty': 'l1'\n",
    "}"
   ]
  },
  {
   "cell_type": "code",
   "execution_count": 45,
   "metadata": {
    "id": "uxK53mD0tpfW"
   },
   "outputs": [
    {
     "name": "stdout",
     "output_type": "stream",
     "text": [
      "Test Accuracy: 97.76%\n"
     ]
    }
   ],
   "source": [
    "best_model = pipeline_logistic.set_params(**best_params)\n",
    "best_model.fit(msg_train, label_train)\n",
    "test_predictions = best_model.predict(msg_test)\n",
    "test_accuracy = accuracy_score(label_test, test_predictions)*100\n",
    "\n",
    "print(f\"Test Accuracy: {test_accuracy:.2f}%\")"
   ]
  },
  {
   "cell_type": "markdown",
   "metadata": {},
   "source": [
    "Based on the validation set, Logistic Regression has the best accuracy. So, we can use this as our final model. \n"
   ]
  }
 ],
 "metadata": {
  "colab": {
   "provenance": []
  },
  "kernelspec": {
   "display_name": "Python 3",
   "name": "python3"
  },
  "language_info": {
   "codemirror_mode": {
    "name": "ipython",
    "version": 3
   },
   "file_extension": ".py",
   "mimetype": "text/x-python",
   "name": "python",
   "nbconvert_exporter": "python",
   "pygments_lexer": "ipython3",
   "version": "3.11.9"
  }
 },
 "nbformat": 4,
 "nbformat_minor": 0
}
