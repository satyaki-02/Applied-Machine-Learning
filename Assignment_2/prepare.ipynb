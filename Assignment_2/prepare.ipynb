{
 "cells": [
  {
   "cell_type": "markdown",
   "metadata": {
    "id": "iVGeXqpBD3zV"
   },
   "source": [
    "## Importing Libraries"
   ]
  },
  {
   "cell_type": "code",
   "execution_count": 1,
   "metadata": {
    "colab": {
     "base_uri": "https://localhost:8080/"
    },
    "id": "9AV2i3kwAnsM",
    "outputId": "8e13767f-aa3e-48c6-c822-f167e46f25be"
   },
   "outputs": [
    {
     "name": "stderr",
     "output_type": "stream",
     "text": [
      "[nltk_data] Downloading package punkt to\n",
      "[nltk_data]     C:\\Users\\j25sr\\AppData\\Roaming\\nltk_data...\n",
      "[nltk_data]   Package punkt is already up-to-date!\n",
      "[nltk_data] Downloading package punkt_tab to\n",
      "[nltk_data]     C:\\Users\\j25sr\\AppData\\Roaming\\nltk_data...\n",
      "[nltk_data]   Package punkt_tab is already up-to-date!\n",
      "[nltk_data] Downloading package wordnet to\n",
      "[nltk_data]     C:\\Users\\j25sr\\AppData\\Roaming\\nltk_data...\n",
      "[nltk_data]   Package wordnet is already up-to-date!\n"
     ]
    }
   ],
   "source": [
    "import csv\n",
    "from textblob import TextBlob\n",
    "import pandas\n",
    "import nltk\n",
    "nltk.download('punkt')\n",
    "nltk.download('punkt_tab')\n",
    "nltk.download('wordnet')\n",
    "\n",
    "from sklearn.model_selection import train_test_split\n",
    "\n",
    "import warnings\n"
   ]
  },
  {
   "cell_type": "markdown",
   "metadata": {
    "id": "G-pDl147D7GK"
   },
   "source": [
    "## Function to load the data"
   ]
  },
  {
   "cell_type": "code",
   "execution_count": 26,
   "metadata": {
    "colab": {
     "base_uri": "https://localhost:8080/",
     "height": 206
    },
    "id": "9Pkb7PoGTc1p",
    "outputId": "381b7d22-db23-428f-90e8-1bde16989350"
   },
   "outputs": [],
   "source": [
    "def load_data(path):\n",
    "  messages = pandas.read_csv(path, sep='\\t', quoting=csv.QUOTE_NONE,\n",
    "                           names=[\"label\", \"message\"])\n",
    "  return messages"
   ]
  },
  {
   "cell_type": "markdown",
   "metadata": {
    "id": "tXhPaTSHEIm3"
   },
   "source": [
    "# Function to split into lemmas"
   ]
  },
  {
   "cell_type": "code",
   "execution_count": 27,
   "metadata": {
    "colab": {
     "base_uri": "https://localhost:8080/",
     "height": 206
    },
    "id": "g1ajnwv8UD9d",
    "outputId": "ac79a3c7-afd1-4794-b559-90a870ef87d1"
   },
   "outputs": [],
   "source": [
    "def split_into_lemmas(message):\n",
    "    message = message.lower()\n",
    "    words = TextBlob(message).words\n",
    "    return [word.lemmatize() for word in words]"
   ]
  },
  {
   "cell_type": "markdown",
   "metadata": {
    "id": "OsOqUQDaEMDb"
   },
   "source": [
    "# Function to split data into train, test and validation"
   ]
  },
  {
   "cell_type": "code",
   "execution_count": 28,
   "metadata": {
    "id": "A-dskEN8rgyY"
   },
   "outputs": [],
   "source": [
    "def split_data(messages, random_state, ts = 0.2, v=0.2):\n",
    "  v_a = v /(1-ts)\n",
    "  msg_train, msg_test, label_train, label_test = train_test_split(messages['message'], messages['label'], test_size=ts)\n",
    "  msg_train, msg_val, label_train, label_val = train_test_split(\n",
    "    msg_train, label_train, test_size=v_a, random_state=random_state)\n",
    "  return msg_train, msg_val, msg_test, label_train, label_val, label_test\n"
   ]
  },
  {
   "cell_type": "markdown",
   "metadata": {},
   "source": [
    "# Function to store the splitted and preprocessed data "
   ]
  },
  {
   "cell_type": "code",
   "execution_count": 29,
   "metadata": {
    "id": "lOqzMKmOvj7J"
   },
   "outputs": [],
   "source": [
    "def to_csv(storagepath, msg_train, msg_val, msg_test, label_train, label_val, label_test):\n",
    "  msg_train.to_csv(storagepath + 'msg_train.csv', index=False)\n",
    "  msg_val.to_csv(storagepath + 'msg_val.csv', index=False)\n",
    "  msg_test.to_csv(storagepath + 'msg_test.csv', index=False)\n",
    "  label_train.to_csv(storagepath + 'label_train.csv', index=False)\n",
    "  label_val.to_csv(storagepath + 'label_val.csv', index=False)\n",
    "  label_test.to_csv(storagepath + 'label_test.csv', index=False)"
   ]
  },
  {
   "cell_type": "markdown",
   "metadata": {},
   "source": [
    "# DVC"
   ]
  },
  {
   "cell_type": "code",
   "execution_count": 3,
   "metadata": {},
   "outputs": [
    {
     "name": "stdout",
     "output_type": "stream",
     "text": [
      "Initialized DVC repository.\n",
      "\n",
      "You can now commit the changes to git.\n",
      "\n",
      "+---------------------------------------------------------------------+\n",
      "|                                                                     |\n",
      "|        DVC has enabled anonymous aggregate usage analytics.         |\n",
      "|     Read the analytics documentation (and how to opt-out) here:     |\n",
      "|             <https://dvc.org/doc/user-guide/analytics>              |\n",
      "|                                                                     |\n",
      "+---------------------------------------------------------------------+\n",
      "\n",
      "What's next?\n",
      "------------\n",
      "- Check out the documentation: <https://dvc.org/doc>\n",
      "- Get help and share ideas: <https://dvc.org/chat>\n",
      "- Star us on GitHub: <https://github.com/iterative/dvc>\n"
     ]
    }
   ],
   "source": [
    "!dvc init --subdir"
   ]
  },
  {
   "cell_type": "code",
   "execution_count": 4,
   "metadata": {},
   "outputs": [],
   "source": [
    "!dvc remote add myremote gdrive://1zvAgkeBtQfRqVs28fpVO4hkNY0zXt7R6"
   ]
  },
  {
   "cell_type": "code",
   "execution_count": 6,
   "metadata": {},
   "outputs": [
    {
     "name": "stdout",
     "output_type": "stream",
     "text": [
      "\n",
      "To track the changes with git, run:\n",
      "\n",
      "\tgit add raw_data.csv.dvc .gitignore\n",
      "\n",
      "To enable auto staging, run:\n",
      "\n",
      "\tdvc config core.autostage true\n"
     ]
    },
    {
     "name": "stderr",
     "output_type": "stream",
     "text": [
      "⠋ Checking graph\n",
      "\n"
     ]
    }
   ],
   "source": [
    "!dvc add raw_data.csv"
   ]
  },
  {
   "cell_type": "code",
   "execution_count": 8,
   "metadata": {},
   "outputs": [],
   "source": [
    "!git add raw_data.csv.dvc .gitignore"
   ]
  },
  {
   "cell_type": "code",
   "execution_count": 11,
   "metadata": {},
   "outputs": [],
   "source": [
    "!dvc remote default myremote"
   ]
  },
  {
   "cell_type": "code",
   "execution_count": 17,
   "metadata": {},
   "outputs": [],
   "source": [
    "!dvc remote modify myremote gdrive_use_service_account true\n",
    "!dvc remote modify myremote --local gdrive_service_account_json_file_path \"C:\\Users\\j25sr\\Downloads\\amldvc-026588cc982d.json\""
   ]
  },
  {
   "cell_type": "code",
   "execution_count": 23,
   "metadata": {},
   "outputs": [
    {
     "name": "stdout",
     "output_type": "stream",
     "text": [
      "1 file pushed\n"
     ]
    }
   ],
   "source": [
    "!dvc push"
   ]
  },
  {
   "cell_type": "markdown",
   "metadata": {},
   "source": [
    "## Initial Split"
   ]
  },
  {
   "cell_type": "code",
   "execution_count": 30,
   "metadata": {},
   "outputs": [],
   "source": [
    "path = \"C:/Users/j25sr/OneDrive/Desktop/AML 1/sms+spam+collection/SMSSpamCollection\"\n",
    "\n",
    "messages = load_data(path)\n",
    "\n",
    "messages.message = messages.message.apply(split_into_lemmas)"
   ]
  },
  {
   "cell_type": "code",
   "execution_count": 31,
   "metadata": {},
   "outputs": [],
   "source": [
    "msg_train, msg_val, msg_test, label_train, label_val, label_test = split_data(messages, random_state=10)\n",
    "\n",
    "storage_path = 'C:/Users/j25sr/OneDrive/Desktop/Satyaki/Applied-Machine-Learning/Assignment_2/'\n",
    "to_csv(storage_path, msg_train, msg_val, msg_test, label_train, label_val, label_test)"
   ]
  },
  {
   "cell_type": "code",
   "execution_count": 32,
   "metadata": {},
   "outputs": [
    {
     "name": "stdout",
     "output_type": "stream",
     "text": [
      "\n",
      "To track the changes with git, run:\n",
      "\n",
      "\tgit add label_train.csv.dvc msg_val.csv.dvc msg_test.csv.dvc label_val.csv.dvc label_test.csv.dvc .gitignore msg_train.csv.dvc\n",
      "\n",
      "To enable auto staging, run:\n",
      "\n",
      "\tdvc config core.autostage true\n"
     ]
    },
    {
     "name": "stderr",
     "output_type": "stream",
     "text": [
      "⠋ Checking graph\n",
      "\n"
     ]
    }
   ],
   "source": [
    "!dvc add msg_train.csv msg_val.csv msg_test.csv label_train.csv label_val.csv label_test.csv"
   ]
  },
  {
   "cell_type": "code",
   "execution_count": null,
   "metadata": {},
   "outputs": [],
   "source": [
    "!git add label_train.csv.dvc msg_val.csv.dvc msg_test.csv.dvc label_val.csv.dvc label_test.csv.dvc .gitignore msg_train.csv.dvc"
   ]
  },
  {
   "cell_type": "code",
   "execution_count": 34,
   "metadata": {},
   "outputs": [
    {
     "name": "stdout",
     "output_type": "stream",
     "text": [
      "[main 298b159] Version 1 split\n",
      " 11 files changed, 48 insertions(+)\n",
      " create mode 100644 Assignment_2/.dvc/.gitignore\n",
      " create mode 100644 Assignment_2/.dvc/config\n",
      " create mode 100644 Assignment_2/.dvcignore\n",
      " create mode 100644 Assignment_2/.gitignore\n",
      " create mode 100644 Assignment_2/label_test.csv.dvc\n",
      " create mode 100644 Assignment_2/label_train.csv.dvc\n",
      " create mode 100644 Assignment_2/label_val.csv.dvc\n",
      " create mode 100644 Assignment_2/msg_test.csv.dvc\n",
      " create mode 100644 Assignment_2/msg_train.csv.dvc\n",
      " create mode 100644 Assignment_2/msg_val.csv.dvc\n",
      " create mode 100644 Assignment_2/raw_data.csv.dvc\n"
     ]
    }
   ],
   "source": [
    "!git commit -m \"Version 1 split\""
   ]
  },
  {
   "cell_type": "markdown",
   "metadata": {},
   "source": [
    "## 2nd split"
   ]
  },
  {
   "cell_type": "code",
   "execution_count": 36,
   "metadata": {},
   "outputs": [],
   "source": [
    "msg_train, msg_val, msg_test, label_train, label_val, label_test = split_data(messages, random_state= 50)\n",
    "storage_path = 'C:/Users/j25sr/OneDrive/Desktop/Satyaki/Applied-Machine-Learning/Assignment_2/'\n",
    "to_csv(storage_path, msg_train, msg_val, msg_test, label_train, label_val, label_test)"
   ]
  },
  {
   "cell_type": "code",
   "execution_count": 37,
   "metadata": {},
   "outputs": [
    {
     "name": "stdout",
     "output_type": "stream",
     "text": [
      "\n",
      "To track the changes with git, run:\n",
      "\n",
      "\tgit add label_test.csv.dvc label_train.csv.dvc msg_val.csv.dvc msg_test.csv.dvc label_val.csv.dvc msg_train.csv.dvc\n",
      "\n",
      "To enable auto staging, run:\n",
      "\n",
      "\tdvc config core.autostage true\n"
     ]
    },
    {
     "name": "stderr",
     "output_type": "stream",
     "text": [
      "⠋ Checking graph\n",
      "\n"
     ]
    }
   ],
   "source": [
    "!dvc add msg_train.csv msg_val.csv msg_test.csv label_train.csv label_val.csv label_test.csv"
   ]
  },
  {
   "cell_type": "code",
   "execution_count": 39,
   "metadata": {},
   "outputs": [],
   "source": [
    "!git add label_test.csv.dvc label_train.csv.dvc msg_val.csv.dvc msg_test.csv.dvc label_val.csv.dvc msg_train.csv.dvc\n"
   ]
  },
  {
   "cell_type": "code",
   "execution_count": 40,
   "metadata": {},
   "outputs": [
    {
     "name": "stdout",
     "output_type": "stream",
     "text": [
      "[main 388acdd] Version 2 split\n",
      " 6 files changed, 12 insertions(+), 12 deletions(-)\n"
     ]
    }
   ],
   "source": [
    "!git commit -m \"Version 2 split\""
   ]
  },
  {
   "cell_type": "markdown",
   "metadata": {},
   "source": [
    "## Accessing the splits"
   ]
  },
  {
   "cell_type": "code",
   "execution_count": 41,
   "metadata": {},
   "outputs": [
    {
     "name": "stdout",
     "output_type": "stream",
     "text": [
      "commit 388acddc692331d7eba70a740b52920cf5e92a6d\n",
      "Author: SreejaChoudhury <j25sreeja@gmail.com>\n",
      "Date:   Sun Mar 2 19:58:43 2025 +0530\n",
      "\n",
      "    Version 2 split\n",
      "\n",
      "commit 298b1594424075784a44d8a718eda5489c5b134c\n",
      "Author: SreejaChoudhury <j25sreeja@gmail.com>\n",
      "Date:   Sun Mar 2 19:56:50 2025 +0530\n",
      "\n",
      "    Version 1 split\n",
      "\n",
      "commit 58cc4b2ed3f2ddfb7f4f965bb56a52290a8b5627\n",
      "Author: Satyaki Mullick <84702497+satyaki-02@users.noreply.github.com>\n",
      "Date:   Thu Jan 30 22:05:17 2025 +0530\n",
      "\n",
      "    Uploaded Assignment_1\n",
      "    \n",
      "    This folder contains two files: preprocess.ipynb and train.ipynb\n",
      "\n",
      "commit 960c576f4565c7403b055585e5116e0ca95576f0\n",
      "Author: Satyaki Mullick <84702497+satyaki-02@users.noreply.github.com>\n",
      "Date:   Thu Jan 30 22:01:19 2025 +0530\n",
      "\n",
      "    Delete\n",
      "\n",
      "commit 64a344e7574c965c53485382d62e64670e94017e\n",
      "Author: Satyaki Mullick <84702497+satyaki-02@users.noreply.github.com>\n",
      "Date:   Thu Jan 30 19:24:47 2025 +0530\n",
      "\n",
      "    Uploaded preprocess.ipynb\n",
      "    \n",
      "    A file that contains all the functions to preprocess the sms_spam_classification dataset and store them in a desired path\n"
     ]
    }
   ],
   "source": [
    "!git log"
   ]
  },
  {
   "cell_type": "code",
   "execution_count": 42,
   "metadata": {},
   "outputs": [
    {
     "name": "stdout",
     "output_type": "stream",
     "text": [
      "M\tAssignment_2/.dvc/config\n"
     ]
    },
    {
     "name": "stderr",
     "output_type": "stream",
     "text": [
      "Note: switching to '298b1594424075784a44d8a718eda5489c5b134c'.\n",
      "\n",
      "You are in 'detached HEAD' state. You can look around, make experimental\n",
      "changes and commit them, and you can discard any commits you make in this\n",
      "state without impacting any branches by switching back to a branch.\n",
      "\n",
      "If you want to create a new branch to retain commits you create, you may\n",
      "do so (now or later) by using -c with the switch command. Example:\n",
      "\n",
      "  git switch -c <new-branch-name>\n",
      "\n",
      "Or undo this operation with:\n",
      "\n",
      "  git switch -\n",
      "\n",
      "Turn off this advice by setting config variable advice.detachedHead to false\n",
      "\n",
      "HEAD is now at 298b159 Version 1 split\n"
     ]
    }
   ],
   "source": [
    "!git checkout 298b1594424075784a44d8a718eda5489c5b134c"
   ]
  },
  {
   "cell_type": "code",
   "execution_count": 43,
   "metadata": {},
   "outputs": [
    {
     "name": "stdout",
     "output_type": "stream",
     "text": [
      "M       msg_val.csv\n",
      "M       label_val.csv\n",
      "M       msg_train.csv\n",
      "M       label_test.csv\n",
      "M       msg_test.csv\n",
      "M       label_train.csv\n"
     ]
    }
   ],
   "source": [
    "!dvc checkout"
   ]
  },
  {
   "cell_type": "code",
   "execution_count": 45,
   "metadata": {},
   "outputs": [],
   "source": [
    "import pandas as pd\n",
    "\n",
    "train = pd.read_csv('label_train.csv')\n",
    "test = pd.read_csv('label_test.csv')\n",
    "val = pd.read_csv('label_val.csv')"
   ]
  },
  {
   "cell_type": "markdown",
   "metadata": {},
   "source": [
    "Distribution of 1st split"
   ]
  },
  {
   "cell_type": "code",
   "execution_count": 49,
   "metadata": {},
   "outputs": [
    {
     "data": {
      "image/png": "[encoded data removed]",
      "text/plain": [
       "<Figure size 800x500 with 1 Axes>"
      ]
     },
     "metadata": {},
     "output_type": "display_data"
    }
   ],
   "source": [
    "import matplotlib.pyplot as plt\n",
    "import seaborn as sns\n",
    "\n",
    "train['Dataset'] = 'Train'\n",
    "test['Dataset'] = 'Test'\n",
    "val['Dataset'] = 'Validation'\n",
    "\n",
    "# Concatenate all datasets\n",
    "df = pd.concat([train, test, val])\n",
    "\n",
    "sns.set_style(\"white\")\n",
    "\n",
    "# Create the count plot\n",
    "plt.figure(figsize=(8, 5))\n",
    "ax = sns.countplot(data=df, x='Dataset', hue='label', palette='Set2')\n",
    "\n",
    "# Add values on top of bars\n",
    "for p in ax.patches:\n",
    "    ax.annotate(\n",
    "        str(int(p.get_height())), \n",
    "        (p.get_x() + p.get_width() / 2, p.get_height()), \n",
    "        ha='center', va='bottom', fontsize=12, fontweight='bold'\n",
    "    )\n",
    "\n",
    "# Add labels and title\n",
    "plt.xlabel('Dataset')\n",
    "plt.ylabel('Count')\n",
    "plt.title('Distribution of Ham and Spam in Train, Test, and Validation Sets')\n",
    "plt.legend(title='Label')\n",
    "\n",
    "# Show the plot\n",
    "plt.show()"
   ]
  },
  {
   "cell_type": "markdown",
   "metadata": {},
   "source": [
    "## Accessing 2nd split"
   ]
  },
  {
   "cell_type": "code",
   "execution_count": 50,
   "metadata": {},
   "outputs": [
    {
     "name": "stdout",
     "output_type": "stream",
     "text": [
      "M\tAssignment_2/.dvc/config\n"
     ]
    },
    {
     "name": "stderr",
     "output_type": "stream",
     "text": [
      "Previous HEAD position was 298b159 Version 1 split\n",
      "HEAD is now at 388acdd Version 2 split\n"
     ]
    }
   ],
   "source": [
    "!git checkout 388acddc692331d7eba70a740b52920cf5e92a6d"
   ]
  },
  {
   "cell_type": "code",
   "execution_count": 51,
   "metadata": {},
   "outputs": [
    {
     "name": "stdout",
     "output_type": "stream",
     "text": [
      "M       label_test.csv\n",
      "M       msg_val.csv\n",
      "M       label_train.csv\n",
      "M       msg_train.csv\n",
      "M       msg_test.csv\n",
      "M       label_val.csv\n"
     ]
    }
   ],
   "source": [
    "!dvc checkout"
   ]
  },
  {
   "cell_type": "code",
   "execution_count": 52,
   "metadata": {},
   "outputs": [],
   "source": [
    "\n",
    "train = pd.read_csv('label_train.csv')\n",
    "test = pd.read_csv('label_test.csv')\n",
    "val = pd.read_csv('label_val.csv')"
   ]
  },
  {
   "cell_type": "markdown",
   "metadata": {},
   "source": [
    "Distribution of 2nd split"
   ]
  },
  {
   "cell_type": "code",
   "execution_count": 53,
   "metadata": {},
   "outputs": [
    {
     "data": {
      "image/png": "[encoded data removed]",
      "text/plain": [
       "<Figure size 800x500 with 1 Axes>"
      ]
     },
     "metadata": {},
     "output_type": "display_data"
    }
   ],
   "source": [
    "import matplotlib.pyplot as plt\n",
    "import seaborn as sns\n",
    "\n",
    "train['Dataset'] = 'Train'\n",
    "test['Dataset'] = 'Test'\n",
    "val['Dataset'] = 'Validation'\n",
    "\n",
    "# Concatenate all datasets\n",
    "df = pd.concat([train, test, val])\n",
    "\n",
    "sns.set_style(\"white\")\n",
    "\n",
    "# Create the count plot\n",
    "plt.figure(figsize=(8, 5))\n",
    "ax = sns.countplot(data=df, x='Dataset', hue='label', palette='Set2')\n",
    "\n",
    "# Add values on top of bars\n",
    "for p in ax.patches:\n",
    "    ax.annotate(\n",
    "        str(int(p.get_height())), \n",
    "        (p.get_x() + p.get_width() / 2, p.get_height()), \n",
    "        ha='center', va='bottom', fontsize=12, fontweight='bold'\n",
    "    )\n",
    "\n",
    "# Add labels and title\n",
    "plt.xlabel('Dataset')\n",
    "plt.ylabel('Count')\n",
    "plt.title('Distribution of Ham and Spam in Train, Test, and Validation Sets')\n",
    "plt.legend(title='Label')\n",
    "\n",
    "# Show the plot\n",
    "plt.show()"
   ]
  },
  {
   "cell_type": "code",
   "execution_count": 54,
   "metadata": {},
   "outputs": [
    {
     "name": "stdout",
     "output_type": "stream",
     "text": [
      "M\tAssignment_2/.dvc/config\n",
      "Your branch is ahead of 'origin/main' by 2 commits.\n",
      "  (use \"git push\" to publish your local commits)\n"
     ]
    },
    {
     "name": "stderr",
     "output_type": "stream",
     "text": [
      "Switched to branch 'main'\n"
     ]
    }
   ],
   "source": [
    "!git checkout main"
   ]
  },
  {
   "cell_type": "code",
   "execution_count": 55,
   "metadata": {},
   "outputs": [
    {
     "name": "stdout",
     "output_type": "stream",
     "text": [
      "6 files pushed\n"
     ]
    }
   ],
   "source": [
    "!dvc push"
   ]
  }
 ],
 "metadata": {
  "colab": {
   "provenance": []
  },
  "kernelspec": {
   "display_name": "Python 3",
   "name": "python3"
  },
  "language_info": {
   "codemirror_mode": {
    "name": "ipython",
    "version": 3
   },
   "file_extension": ".py",
   "mimetype": "text/x-python",
   "name": "python",
   "nbconvert_exporter": "python",
   "pygments_lexer": "ipython3",
   "version": "3.11.9"
  }
 },
 "nbformat": 4,
 "nbformat_minor": 0
}
